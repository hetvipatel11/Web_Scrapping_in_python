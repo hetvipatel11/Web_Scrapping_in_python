{
  "nbformat": 4,
  "nbformat_minor": 0,
  "metadata": {
    "colab": {
      "name": "DS_PRACT_1.ipynb",
      "provenance": []
    },
    "kernelspec": {
      "name": "python3",
      "display_name": "Python 3"
    },
    "language_info": {
      "name": "python"
    }
  },
  "cells": [
    {
      "cell_type": "code",
      "metadata": {
        "id": "h-x5zM28zCrV"
      },
      "source": [
        "import requests\n",
        "from bs4 import BeautifulSoup\n",
        "import pandas as pd\n",
        "\n",
        "Text=[]"
      ],
      "execution_count": 16,
      "outputs": []
    },
    {
      "cell_type": "code",
      "metadata": {
        "id": "b1dk50daz7PT"
      },
      "source": [
        "res=requests.get('https://www.yatra.com/indian-monuments')\n",
        "soup=BeautifulSoup(res.text,'lxml')\n",
        "soup.select('monument-title')\n",
        "for i in soup.select('.monument-title'):\n",
        "  print(i.text)\n",
        "\n",
        "  Text.append(i.text)\n",
        "for i in soup.select('.monument-title'):\n",
        "  print(i.text)"
      ],
      "execution_count": null,
      "outputs": []
    },
    {
      "cell_type": "code",
      "metadata": {
        "id": "UvKV06Jl4Z78"
      },
      "source": [
        "df = pd.DataFrame({'Majestic Monuments of India':Text, })\n",
        "df.to_csv('data.csv', index=False, encoding='utf-8')"
      ],
      "execution_count": 23,
      "outputs": []
    }
  ]
}